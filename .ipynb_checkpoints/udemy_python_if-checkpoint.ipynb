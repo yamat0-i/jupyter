{
 "cells": [
  {
   "cell_type": "markdown",
   "id": "18de905c",
   "metadata": {},
   "source": [
    "if文"
   ]
  },
  {
   "cell_type": "code",
   "execution_count": 1,
   "id": "208bdc56",
   "metadata": {},
   "outputs": [
    {
     "name": "stdout",
     "output_type": "stream",
     "text": [
      "negative\n"
     ]
    }
   ],
   "source": [
    "x = -10\n",
    "if x < 0:\n",
    "    print('negative')"
   ]
  },
  {
   "cell_type": "code",
   "execution_count": 3,
   "id": "d6492160",
   "metadata": {},
   "outputs": [
    {
     "name": "stdout",
     "output_type": "stream",
     "text": [
      "positive\n"
     ]
    }
   ],
   "source": [
    "x = 10\n",
    "if x < 0:\n",
    "    print('negative')\n",
    "else:\n",
    "    print('positive')"
   ]
  },
  {
   "cell_type": "code",
   "execution_count": 4,
   "id": "430c6bd4",
   "metadata": {},
   "outputs": [
    {
     "name": "stdout",
     "output_type": "stream",
     "text": [
      "zero\n"
     ]
    }
   ],
   "source": [
    "x = 0\n",
    "if x < 0:\n",
    "    print('negative')\n",
    "elif x == 0:\n",
    "    print('zero')\n",
    "else:\n",
    "    print('positive')"
   ]
  },
  {
   "cell_type": "code",
   "execution_count": 5,
   "id": "ae755cc3",
   "metadata": {},
   "outputs": [
    {
     "name": "stdout",
     "output_type": "stream",
     "text": [
      "a is positive\n",
      "b is positive\n"
     ]
    }
   ],
   "source": [
    "a = 5\n",
    "b = 10\n",
    "\n",
    "if a > 0:\n",
    "    print('a is positive')\n",
    "    if b > 0:\n",
    "        print('b is positive')"
   ]
  }
 ],
 "metadata": {
  "kernelspec": {
   "display_name": "Python 3 (ipykernel)",
   "language": "python",
   "name": "python3"
  },
  "language_info": {
   "codemirror_mode": {
    "name": "ipython",
    "version": 3
   },
   "file_extension": ".py",
   "mimetype": "text/x-python",
   "name": "python",
   "nbconvert_exporter": "python",
   "pygments_lexer": "ipython3",
   "version": "3.9.12"
  }
 },
 "nbformat": 4,
 "nbformat_minor": 5
}
