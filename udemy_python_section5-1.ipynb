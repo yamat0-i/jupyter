{
 "cells": [
  {
   "cell_type": "markdown",
   "id": "18de905c",
   "metadata": {},
   "source": [
    "〇if文"
   ]
  },
  {
   "cell_type": "code",
   "execution_count": 1,
   "id": "208bdc56",
   "metadata": {},
   "outputs": [
    {
     "name": "stdout",
     "output_type": "stream",
     "text": [
      "negative\n"
     ]
    }
   ],
   "source": [
    "x = -10\n",
    "if x < 0:\n",
    "    print('negative')"
   ]
  },
  {
   "cell_type": "code",
   "execution_count": 3,
   "id": "d6492160",
   "metadata": {},
   "outputs": [
    {
     "name": "stdout",
     "output_type": "stream",
     "text": [
      "positive\n"
     ]
    }
   ],
   "source": [
    "x = 10\n",
    "if x < 0:\n",
    "    print('negative')\n",
    "else:\n",
    "    print('positive')"
   ]
  },
  {
   "cell_type": "code",
   "execution_count": 4,
   "id": "430c6bd4",
   "metadata": {
    "scrolled": true
   },
   "outputs": [
    {
     "name": "stdout",
     "output_type": "stream",
     "text": [
      "zero\n"
     ]
    }
   ],
   "source": [
    "x = 0\n",
    "if x < 0:\n",
    "    print('negative')\n",
    "elif x == 0:\n",
    "    print('zero')\n",
    "else:\n",
    "    print('positive')"
   ]
  },
  {
   "cell_type": "code",
   "execution_count": 1,
   "id": "ae755cc3",
   "metadata": {},
   "outputs": [
    {
     "name": "stdout",
     "output_type": "stream",
     "text": [
      "a is positive\n",
      "b is positive\n"
     ]
    }
   ],
   "source": [
    "a = 5\n",
    "b = 10\n",
    "\n",
    "if a > 0:\n",
    "    print('a is positive')\n",
    "    if b > 0:\n",
    "        print('b is positive')"
   ]
  },
  {
   "cell_type": "markdown",
   "id": "a465f04b",
   "metadata": {},
   "source": [
    "〇InとNot"
   ]
  },
  {
   "cell_type": "code",
   "execution_count": 2,
   "id": "d3f3fb02",
   "metadata": {},
   "outputs": [
    {
     "name": "stdout",
     "output_type": "stream",
     "text": [
      "in\n"
     ]
    }
   ],
   "source": [
    "y = [1, 2, 3]\n",
    "x = 1\n",
    "\n",
    "if x in y:\n",
    "    print('in')"
   ]
  },
  {
   "cell_type": "code",
   "execution_count": 3,
   "id": "bcac8f67",
   "metadata": {},
   "outputs": [
    {
     "name": "stdout",
     "output_type": "stream",
     "text": [
      "not in\n"
     ]
    }
   ],
   "source": [
    "y = [1, 2, 3]\n",
    "x = 1\n",
    "\n",
    "if 100 not in y:\n",
    "    print('not in')"
   ]
  },
  {
   "cell_type": "code",
   "execution_count": 4,
   "id": "ad5976db",
   "metadata": {},
   "outputs": [
    {
     "name": "stdout",
     "output_type": "stream",
     "text": [
      "Not equal\n"
     ]
    }
   ],
   "source": [
    "if not a == b:\n",
    "    print('Not equal')"
   ]
  },
  {
   "cell_type": "markdown",
   "id": "5ecbd6a6",
   "metadata": {},
   "source": [
    "※こちらが望ましい"
   ]
  },
  {
   "cell_type": "code",
   "execution_count": 5,
   "id": "bf0a3f25",
   "metadata": {},
   "outputs": [
    {
     "name": "stdout",
     "output_type": "stream",
     "text": [
      "Not equal\n"
     ]
    }
   ],
   "source": [
    "if a != b:\n",
    "    print('Not equal')"
   ]
  },
  {
   "cell_type": "markdown",
   "id": "08e5ec1d",
   "metadata": {},
   "source": [
    "↓bool型の否定などで使う"
   ]
  },
  {
   "cell_type": "code",
   "execution_count": 9,
   "id": "cfb7d027",
   "metadata": {},
   "outputs": [],
   "source": [
    "is_ok = True\n",
    "\n",
    "if is_ok != True:\n",
    "    print('Hello')"
   ]
  },
  {
   "cell_type": "code",
   "execution_count": 7,
   "id": "7f1a54ba",
   "metadata": {},
   "outputs": [],
   "source": [
    "is_ok = True\n",
    "\n",
    "if not is_ok:\n",
    "    print('Hello')"
   ]
  },
  {
   "cell_type": "markdown",
   "id": "844db403",
   "metadata": {},
   "source": [
    "〇判定"
   ]
  },
  {
   "cell_type": "markdown",
   "id": "84605e71",
   "metadata": {},
   "source": [
    "変数に値が入っていればTrue、無ければFalse"
   ]
  },
  {
   "cell_type": "code",
   "execution_count": 12,
   "id": "63ade27d",
   "metadata": {},
   "outputs": [
    {
     "name": "stdout",
     "output_type": "stream",
     "text": [
      "OK!\n"
     ]
    }
   ],
   "source": [
    "is_ok = 1\n",
    "\n",
    "if is_ok:\n",
    "    print('OK!')\n",
    "else:\n",
    "    print('NO!')"
   ]
  },
  {
   "cell_type": "code",
   "execution_count": 13,
   "id": "fc557920",
   "metadata": {},
   "outputs": [
    {
     "name": "stdout",
     "output_type": "stream",
     "text": [
      "NO!\n"
     ]
    }
   ],
   "source": [
    "is_ok = \"\"\n",
    "\n",
    "if is_ok:\n",
    "    print('OK!')\n",
    "else:\n",
    "    print('NO!')"
   ]
  },
  {
   "cell_type": "markdown",
   "id": "a7e77500",
   "metadata": {},
   "source": [
    "※0、0.0などもFalse"
   ]
  },
  {
   "cell_type": "markdown",
   "id": "7e8269bf",
   "metadata": {},
   "source": [
    "〇None"
   ]
  },
  {
   "cell_type": "code",
   "execution_count": 15,
   "id": "d58635ba",
   "metadata": {},
   "outputs": [
    {
     "name": "stdout",
     "output_type": "stream",
     "text": [
      "None\n"
     ]
    }
   ],
   "source": [
    "is_empty = None\n",
    "print(is_empty)"
   ]
  },
  {
   "cell_type": "code",
   "execution_count": 16,
   "id": "33cac7fe",
   "metadata": {},
   "outputs": [
    {
     "name": "stdout",
     "output_type": "stream",
     "text": [
      "Help on NoneType object:\n",
      "\n",
      "class NoneType(object)\n",
      " |  Methods defined here:\n",
      " |  \n",
      " |  __bool__(self, /)\n",
      " |      True if self else False\n",
      " |  \n",
      " |  __repr__(self, /)\n",
      " |      Return repr(self).\n",
      " |  \n",
      " |  ----------------------------------------------------------------------\n",
      " |  Static methods defined here:\n",
      " |  \n",
      " |  __new__(*args, **kwargs) from builtins.type\n",
      " |      Create and return a new object.  See help(type) for accurate signature.\n",
      "\n",
      "None\n"
     ]
    }
   ],
   "source": [
    "print(help(None))"
   ]
  },
  {
   "cell_type": "markdown",
   "id": "fd1e0f98",
   "metadata": {},
   "source": [
    "pythonではNoneの判定は==ではなくisを用いる"
   ]
  },
  {
   "cell_type": "code",
   "execution_count": 17,
   "id": "08d267c9",
   "metadata": {},
   "outputs": [
    {
     "name": "stdout",
     "output_type": "stream",
     "text": [
      "None!!\n"
     ]
    }
   ],
   "source": [
    "if is_empty is None:\n",
    "    print('None!!')"
   ]
  },
  {
   "cell_type": "markdown",
   "id": "23c77cc4",
   "metadata": {},
   "source": [
    "※isと==の違い"
   ]
  },
  {
   "cell_type": "code",
   "execution_count": 20,
   "id": "802c71a9",
   "metadata": {},
   "outputs": [
    {
     "name": "stdout",
     "output_type": "stream",
     "text": [
      "True\n",
      "False\n",
      "True\n",
      "True\n"
     ]
    },
    {
     "name": "stderr",
     "output_type": "stream",
     "text": [
      "<>:2: SyntaxWarning: \"is\" with a literal. Did you mean \"==\"?\n",
      "<>:2: SyntaxWarning: \"is\" with a literal. Did you mean \"==\"?\n",
      "C:\\Users\\User\\AppData\\Local\\Temp\\ipykernel_13652\\1168734339.py:2: SyntaxWarning: \"is\" with a literal. Did you mean \"==\"?\n",
      "  print(1 is True)\n"
     ]
    }
   ],
   "source": [
    "print(1 == True)\n",
    "print(1 is True)\n",
    "print(True is True)\n",
    "print(None is None)"
   ]
  },
  {
   "cell_type": "markdown",
   "id": "58e6a7d4",
   "metadata": {},
   "source": [
    "〇while文、break文、continue文"
   ]
  },
  {
   "cell_type": "code",
   "execution_count": 23,
   "id": "a81eb52d",
   "metadata": {},
   "outputs": [
    {
     "name": "stdout",
     "output_type": "stream",
     "text": [
      "0\n",
      "1\n",
      "2\n",
      "3\n",
      "4\n"
     ]
    }
   ],
   "source": [
    "count = 0\n",
    "\n",
    "while count < 5:\n",
    "    print(count)\n",
    "    count += 1"
   ]
  },
  {
   "cell_type": "code",
   "execution_count": 25,
   "id": "29d10f6e",
   "metadata": {},
   "outputs": [
    {
     "name": "stdout",
     "output_type": "stream",
     "text": [
      "0\n",
      "1\n",
      "2\n",
      "3\n",
      "4\n"
     ]
    }
   ],
   "source": [
    "count = 0\n",
    "\n",
    "while True:\n",
    "    if count >= 5:\n",
    "        break\n",
    "    print(count)\n",
    "    count += 1"
   ]
  },
  {
   "cell_type": "code",
   "execution_count": 27,
   "id": "5103bd69",
   "metadata": {},
   "outputs": [
    {
     "name": "stdout",
     "output_type": "stream",
     "text": [
      "0\n",
      "1\n",
      "3\n",
      "4\n"
     ]
    }
   ],
   "source": [
    "count = 0\n",
    "\n",
    "while True:\n",
    "    if count >= 5:\n",
    "        break\n",
    "        \n",
    "    if count == 2:\n",
    "        count += 1\n",
    "        continue\n",
    "        \n",
    "    print(count)\n",
    "    count += 1"
   ]
  },
  {
   "cell_type": "code",
   "execution_count": 28,
   "id": "991dcfc2",
   "metadata": {},
   "outputs": [
    {
     "name": "stdout",
     "output_type": "stream",
     "text": [
      "0\n",
      "1\n",
      "2\n",
      "3\n",
      "4\n",
      "done\n"
     ]
    }
   ],
   "source": [
    "count = 0\n",
    "\n",
    "while count < 5:\n",
    "    print(count)\n",
    "    count += 1\n",
    "else:\n",
    "    print('done')"
   ]
  },
  {
   "cell_type": "markdown",
   "id": "2d85bc58",
   "metadata": {},
   "source": [
    "↓breakはwhile-else全てから抜ける"
   ]
  },
  {
   "cell_type": "code",
   "execution_count": 29,
   "id": "469fc3f3",
   "metadata": {},
   "outputs": [
    {
     "name": "stdout",
     "output_type": "stream",
     "text": [
      "0\n"
     ]
    }
   ],
   "source": [
    "count = 0\n",
    "\n",
    "while count < 5:\n",
    "    if count == 1:\n",
    "        break\n",
    "    print(count)\n",
    "    count += 1\n",
    "else:\n",
    "    print('done')"
   ]
  },
  {
   "cell_type": "markdown",
   "id": "ca3cba9f",
   "metadata": {},
   "source": [
    "〇input関数"
   ]
  },
  {
   "cell_type": "code",
   "execution_count": 32,
   "id": "66f0dcdd",
   "metadata": {},
   "outputs": [
    {
     "name": "stdout",
     "output_type": "stream",
     "text": [
      "Enter:a\n",
      "next\n",
      "Enter:b\n",
      "next\n",
      "Enter:ok\n"
     ]
    }
   ],
   "source": [
    "while True:\n",
    "    word = input(\"Enter:\")\n",
    "    if word == 'ok':\n",
    "        break\n",
    "    print('next')"
   ]
  },
  {
   "cell_type": "markdown",
   "id": "cbe50bca",
   "metadata": {},
   "source": [
    "intを使用したいとき"
   ]
  },
  {
   "cell_type": "code",
   "execution_count": 33,
   "id": "88846023",
   "metadata": {},
   "outputs": [
    {
     "name": "stdout",
     "output_type": "stream",
     "text": [
      "Enter:0\n",
      "next\n",
      "Enter:100\n"
     ]
    }
   ],
   "source": [
    "while True:\n",
    "    word = input(\"Enter:\")\n",
    "    num = int(word)\n",
    "    if num == 100:\n",
    "        break\n",
    "    print('next')"
   ]
  },
  {
   "cell_type": "markdown",
   "id": "40e5da7f",
   "metadata": {},
   "source": [
    "〇for文"
   ]
  },
  {
   "cell_type": "markdown",
   "id": "bc38648d",
   "metadata": {},
   "source": [
    "whileでは…"
   ]
  },
  {
   "cell_type": "code",
   "execution_count": 34,
   "id": "3911930e",
   "metadata": {},
   "outputs": [
    {
     "name": "stdout",
     "output_type": "stream",
     "text": [
      "1\n",
      "2\n",
      "3\n",
      "4\n",
      "5\n"
     ]
    }
   ],
   "source": [
    "some_list = [1, 2, 3, 4, 5]\n",
    "\n",
    "i = 0\n",
    "while i < len(some_list):\n",
    "    print(some_list[i])\n",
    "    i += 1"
   ]
  },
  {
   "cell_type": "markdown",
   "id": "b7f64e83",
   "metadata": {},
   "source": [
    "forだとこれだけ！"
   ]
  },
  {
   "cell_type": "code",
   "execution_count": 35,
   "id": "636c4ed7",
   "metadata": {},
   "outputs": [
    {
     "name": "stdout",
     "output_type": "stream",
     "text": [
      "1\n",
      "2\n",
      "3\n",
      "4\n",
      "5\n"
     ]
    }
   ],
   "source": [
    "some_list = [1, 2, 3, 4, 5]\n",
    "\n",
    "for i in some_list:\n",
    "    print(i)"
   ]
  },
  {
   "cell_type": "markdown",
   "id": "d350f3f4",
   "metadata": {},
   "source": [
    "文字列でもできる"
   ]
  },
  {
   "cell_type": "code",
   "execution_count": 36,
   "id": "4d811a1a",
   "metadata": {},
   "outputs": [
    {
     "name": "stdout",
     "output_type": "stream",
     "text": [
      "a\n",
      "b\n",
      "c\n",
      "d\n",
      "e\n"
     ]
    }
   ],
   "source": [
    "for s in 'abcde':\n",
    "    print(s)"
   ]
  },
  {
   "cell_type": "markdown",
   "id": "b7a26c88",
   "metadata": {},
   "source": [
    "for else：最後までforが実行されたときelse"
   ]
  },
  {
   "cell_type": "code",
   "execution_count": 38,
   "id": "40dbc3a2",
   "metadata": {},
   "outputs": [
    {
     "name": "stdout",
     "output_type": "stream",
     "text": [
      "apple\n",
      "banana\n",
      "orange\n",
      "I ate all!\n"
     ]
    }
   ],
   "source": [
    "for fruit in ['apple', 'banana', 'orange']:\n",
    "    print(fruit)\n",
    "else:\n",
    "    print('I ate all!')"
   ]
  },
  {
   "cell_type": "markdown",
   "id": "1241a9d8",
   "metadata": {},
   "source": [
    "〇range関数"
   ]
  },
  {
   "cell_type": "code",
   "execution_count": 39,
   "id": "e2920af8",
   "metadata": {},
   "outputs": [
    {
     "name": "stdout",
     "output_type": "stream",
     "text": [
      "0\n",
      "1\n",
      "2\n",
      "3\n",
      "4\n",
      "5\n",
      "6\n",
      "7\n",
      "8\n",
      "9\n"
     ]
    }
   ],
   "source": [
    "num_list = [0, 1, 2, 3, 4, 5, 6, 7, 8, 9]\n",
    "\n",
    "for i in num_list:\n",
    "    print(i)"
   ]
  },
  {
   "cell_type": "code",
   "execution_count": 40,
   "id": "a6b34c53",
   "metadata": {},
   "outputs": [
    {
     "name": "stdout",
     "output_type": "stream",
     "text": [
      "0\n",
      "1\n",
      "2\n",
      "3\n",
      "4\n",
      "5\n",
      "6\n",
      "7\n",
      "8\n",
      "9\n"
     ]
    }
   ],
   "source": [
    "for i in range(10):\n",
    "    print(i)"
   ]
  },
  {
   "cell_type": "code",
   "execution_count": 44,
   "id": "4473ec97",
   "metadata": {},
   "outputs": [
    {
     "name": "stdout",
     "output_type": "stream",
     "text": [
      "2\n",
      "4\n",
      "6\n",
      "8\n"
     ]
    }
   ],
   "source": [
    "for i in range(2, 10, 2):\n",
    "    print(i)"
   ]
  },
  {
   "cell_type": "markdown",
   "id": "a502f151",
   "metadata": {},
   "source": [
    "※iがコードの中に現れない時は_を使う"
   ]
  },
  {
   "cell_type": "code",
   "execution_count": 47,
   "id": "6e481423",
   "metadata": {},
   "outputs": [
    {
     "name": "stdout",
     "output_type": "stream",
     "text": [
      "hello\n",
      "hello\n",
      "hello\n"
     ]
    }
   ],
   "source": [
    "for _ in range(3):\n",
    "    print('hello')"
   ]
  },
  {
   "cell_type": "markdown",
   "id": "9942e160",
   "metadata": {},
   "source": [
    "〇enumerate関数…indexの表示"
   ]
  },
  {
   "cell_type": "code",
   "execution_count": 50,
   "id": "e4e5bd27",
   "metadata": {},
   "outputs": [
    {
     "name": "stdout",
     "output_type": "stream",
     "text": [
      "0 apple\n",
      "1 banana\n",
      "2 orange\n"
     ]
    }
   ],
   "source": [
    "for i, fruit in enumerate(['apple', 'banana', 'orange']):\n",
    "    print(i, fruit)"
   ]
  },
  {
   "cell_type": "markdown",
   "id": "63a74c79",
   "metadata": {},
   "source": [
    "〇zip関数"
   ]
  },
  {
   "cell_type": "code",
   "execution_count": 51,
   "id": "c87bced8",
   "metadata": {},
   "outputs": [
    {
     "name": "stdout",
     "output_type": "stream",
     "text": [
      "Mon apple coffee\n",
      "Tue banana tea\n",
      "Wed orange beer\n"
     ]
    }
   ],
   "source": [
    "days = ['Mon', 'Tue', 'Wed']\n",
    "fruits = ['apple', 'banana', 'orange']\n",
    "drinks = ['coffee', 'tea', 'beer']\n",
    "\n",
    "for i in range(len(days)):\n",
    "    print(days[i], fruits[i], drinks[i])"
   ]
  },
  {
   "cell_type": "code",
   "execution_count": 53,
   "id": "8ee32cec",
   "metadata": {},
   "outputs": [
    {
     "name": "stdout",
     "output_type": "stream",
     "text": [
      "Mon apple coffee\n",
      "Tue banana tea\n",
      "Wed orange beer\n"
     ]
    }
   ],
   "source": [
    "days = ['Mon', 'Tue', 'Wed']\n",
    "fruits = ['apple', 'banana', 'orange']\n",
    "drinks = ['coffee', 'tea', 'beer']\n",
    "\n",
    "for day, fruit, drink in zip(days, fruits, drinks):\n",
    "    print(day, fruit, drink)"
   ]
  },
  {
   "cell_type": "markdown",
   "id": "bbbb5855",
   "metadata": {},
   "source": [
    "〇dictのforループでの処理"
   ]
  },
  {
   "cell_type": "markdown",
   "id": "4178d08f",
   "metadata": {},
   "source": [
    "↓この例ではkeyのみが出力される"
   ]
  },
  {
   "cell_type": "code",
   "execution_count": 55,
   "id": "d6a7295f",
   "metadata": {},
   "outputs": [
    {
     "name": "stdout",
     "output_type": "stream",
     "text": [
      "x\n",
      "y\n"
     ]
    }
   ],
   "source": [
    "d = {'x':100, 'y':200}\n",
    "\n",
    "for v in d:\n",
    "    print(v)"
   ]
  },
  {
   "cell_type": "markdown",
   "id": "fc363b24",
   "metadata": {},
   "source": [
    "valueも表示するには→items"
   ]
  },
  {
   "cell_type": "code",
   "execution_count": 57,
   "id": "cdda439b",
   "metadata": {},
   "outputs": [
    {
     "name": "stdout",
     "output_type": "stream",
     "text": [
      "x : 100\n",
      "y : 200\n"
     ]
    }
   ],
   "source": [
    "d = {'x': 100, 'y': 200}\n",
    "\n",
    "for k, v in d.items():\n",
    "    print(k, ':', v)"
   ]
  },
  {
   "cell_type": "code",
   "execution_count": 58,
   "id": "f3b599f7",
   "metadata": {},
   "outputs": [
    {
     "name": "stdout",
     "output_type": "stream",
     "text": [
      "dict_items([('x', 100), ('y', 200)])\n"
     ]
    }
   ],
   "source": [
    "print(d.items())"
   ]
  }
 ],
 "metadata": {
  "kernelspec": {
   "display_name": "Python 3 (ipykernel)",
   "language": "python",
   "name": "python3"
  },
  "language_info": {
   "codemirror_mode": {
    "name": "ipython",
    "version": 3
   },
   "file_extension": ".py",
   "mimetype": "text/x-python",
   "name": "python",
   "nbconvert_exporter": "python",
   "pygments_lexer": "ipython3",
   "version": "3.9.12"
  }
 },
 "nbformat": 4,
 "nbformat_minor": 5
}
