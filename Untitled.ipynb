{
 "cells": [
  {
   "cell_type": "code",
   "execution_count": 3,
   "id": "775b4d6c",
   "metadata": {},
   "outputs": [
    {
     "name": "stdout",
     "output_type": "stream",
     "text": [
      "2\n"
     ]
    }
   ],
   "source": [
    "r = [1, 2, 3, 4, 5, 1, 2, 3]\n",
    "print(r.index(3))"
   ]
  },
  {
   "cell_type": "code",
   "execution_count": 4,
   "id": "81c45ab7",
   "metadata": {},
   "outputs": [
    {
     "name": "stdout",
     "output_type": "stream",
     "text": [
      "7\n"
     ]
    }
   ],
   "source": [
    "r = [1, 2, 3, 4, 5, 1, 2, 3]\n",
    "print(r.index(3,3))"
   ]
  },
  {
   "cell_type": "code",
   "execution_count": 5,
   "id": "1ab31896",
   "metadata": {},
   "outputs": [
    {
     "name": "stdout",
     "output_type": "stream",
     "text": [
      "2\n"
     ]
    }
   ],
   "source": [
    "print(r.count(3))"
   ]
  },
  {
   "cell_type": "code",
   "execution_count": 6,
   "id": "b32a360f",
   "metadata": {},
   "outputs": [
    {
     "name": "stdout",
     "output_type": "stream",
     "text": [
      "exist\n"
     ]
    }
   ],
   "source": [
    "if 5 in r:\n",
    "    print('exist')"
   ]
  },
  {
   "cell_type": "code",
   "execution_count": 7,
   "id": "ccd60a44",
   "metadata": {},
   "outputs": [
    {
     "name": "stdout",
     "output_type": "stream",
     "text": [
      "[1, 1, 2, 2, 3, 3, 4, 5]\n"
     ]
    }
   ],
   "source": [
    "r.sort()\n",
    "print(r)"
   ]
  },
  {
   "cell_type": "code",
   "execution_count": 8,
   "id": "34b8a6fd",
   "metadata": {},
   "outputs": [
    {
     "name": "stdout",
     "output_type": "stream",
     "text": [
      "[5, 4, 3, 3, 2, 2, 1, 1]\n"
     ]
    }
   ],
   "source": [
    "r.sort(reverse=True)\n",
    "print(r)"
   ]
  },
  {
   "cell_type": "code",
   "execution_count": 9,
   "id": "c984cef5",
   "metadata": {},
   "outputs": [
    {
     "name": "stdout",
     "output_type": "stream",
     "text": [
      "[1, 1, 2, 2, 3, 3, 4, 5]\n"
     ]
    }
   ],
   "source": [
    "r.sort(reverse=False)\n",
    "print(r)"
   ]
  },
  {
   "cell_type": "code",
   "execution_count": 10,
   "id": "88b012c3",
   "metadata": {},
   "outputs": [
    {
     "name": "stdout",
     "output_type": "stream",
     "text": [
      "[5, 4, 3, 3, 2, 2, 1, 1]\n"
     ]
    }
   ],
   "source": [
    "r.reverse()\n",
    "print(r)"
   ]
  },
  {
   "cell_type": "code",
   "execution_count": 11,
   "id": "15ba9b6e",
   "metadata": {},
   "outputs": [
    {
     "name": "stdout",
     "output_type": "stream",
     "text": [
      "[1, 1, 2, 2, 3, 3, 4, 5]\n"
     ]
    }
   ],
   "source": [
    "r.reverse()\n",
    "print(r)"
   ]
  },
  {
   "cell_type": "code",
   "execution_count": 15,
   "id": "176fe357",
   "metadata": {},
   "outputs": [
    {
     "name": "stdout",
     "output_type": "stream",
     "text": [
      "['My', 'name', 'is', 'Mike.']\n"
     ]
    }
   ],
   "source": [
    "s = 'My name is Mike.'\n",
    "to_split = s.split(' ')\n",
    "print(to_split)"
   ]
  },
  {
   "cell_type": "code",
   "execution_count": 16,
   "id": "3b712a38",
   "metadata": {},
   "outputs": [
    {
     "name": "stdout",
     "output_type": "stream",
     "text": [
      "My name is Mike.\n"
     ]
    }
   ],
   "source": [
    "x = ' '.join(to_split)\n",
    "print(x)"
   ]
  },
  {
   "cell_type": "code",
   "execution_count": 17,
   "id": "ee9d2567",
   "metadata": {},
   "outputs": [
    {
     "name": "stdout",
     "output_type": "stream",
     "text": [
      "My###name###is###Mike.\n"
     ]
    }
   ],
   "source": [
    "x = '###'.join(to_split)\n",
    "print(x)"
   ]
  },
  {
   "cell_type": "code",
   "execution_count": 18,
   "id": "bb00930d",
   "metadata": {},
   "outputs": [
    {
     "name": "stdout",
     "output_type": "stream",
     "text": [
      "Help on class list in module builtins:\n",
      "\n",
      "class list(object)\n",
      " |  list(iterable=(), /)\n",
      " |  \n",
      " |  Built-in mutable sequence.\n",
      " |  \n",
      " |  If no argument is given, the constructor creates a new empty list.\n",
      " |  The argument must be an iterable if specified.\n",
      " |  \n",
      " |  Methods defined here:\n",
      " |  \n",
      " |  __add__(self, value, /)\n",
      " |      Return self+value.\n",
      " |  \n",
      " |  __contains__(self, key, /)\n",
      " |      Return key in self.\n",
      " |  \n",
      " |  __delitem__(self, key, /)\n",
      " |      Delete self[key].\n",
      " |  \n",
      " |  __eq__(self, value, /)\n",
      " |      Return self==value.\n",
      " |  \n",
      " |  __ge__(self, value, /)\n",
      " |      Return self>=value.\n",
      " |  \n",
      " |  __getattribute__(self, name, /)\n",
      " |      Return getattr(self, name).\n",
      " |  \n",
      " |  __getitem__(...)\n",
      " |      x.__getitem__(y) <==> x[y]\n",
      " |  \n",
      " |  __gt__(self, value, /)\n",
      " |      Return self>value.\n",
      " |  \n",
      " |  __iadd__(self, value, /)\n",
      " |      Implement self+=value.\n",
      " |  \n",
      " |  __imul__(self, value, /)\n",
      " |      Implement self*=value.\n",
      " |  \n",
      " |  __init__(self, /, *args, **kwargs)\n",
      " |      Initialize self.  See help(type(self)) for accurate signature.\n",
      " |  \n",
      " |  __iter__(self, /)\n",
      " |      Implement iter(self).\n",
      " |  \n",
      " |  __le__(self, value, /)\n",
      " |      Return self<=value.\n",
      " |  \n",
      " |  __len__(self, /)\n",
      " |      Return len(self).\n",
      " |  \n",
      " |  __lt__(self, value, /)\n",
      " |      Return self<value.\n",
      " |  \n",
      " |  __mul__(self, value, /)\n",
      " |      Return self*value.\n",
      " |  \n",
      " |  __ne__(self, value, /)\n",
      " |      Return self!=value.\n",
      " |  \n",
      " |  __repr__(self, /)\n",
      " |      Return repr(self).\n",
      " |  \n",
      " |  __reversed__(self, /)\n",
      " |      Return a reverse iterator over the list.\n",
      " |  \n",
      " |  __rmul__(self, value, /)\n",
      " |      Return value*self.\n",
      " |  \n",
      " |  __setitem__(self, key, value, /)\n",
      " |      Set self[key] to value.\n",
      " |  \n",
      " |  __sizeof__(self, /)\n",
      " |      Return the size of the list in memory, in bytes.\n",
      " |  \n",
      " |  append(self, object, /)\n",
      " |      Append object to the end of the list.\n",
      " |  \n",
      " |  clear(self, /)\n",
      " |      Remove all items from list.\n",
      " |  \n",
      " |  copy(self, /)\n",
      " |      Return a shallow copy of the list.\n",
      " |  \n",
      " |  count(self, value, /)\n",
      " |      Return number of occurrences of value.\n",
      " |  \n",
      " |  extend(self, iterable, /)\n",
      " |      Extend list by appending elements from the iterable.\n",
      " |  \n",
      " |  index(self, value, start=0, stop=9223372036854775807, /)\n",
      " |      Return first index of value.\n",
      " |      \n",
      " |      Raises ValueError if the value is not present.\n",
      " |  \n",
      " |  insert(self, index, object, /)\n",
      " |      Insert object before index.\n",
      " |  \n",
      " |  pop(self, index=-1, /)\n",
      " |      Remove and return item at index (default last).\n",
      " |      \n",
      " |      Raises IndexError if list is empty or index is out of range.\n",
      " |  \n",
      " |  remove(self, value, /)\n",
      " |      Remove first occurrence of value.\n",
      " |      \n",
      " |      Raises ValueError if the value is not present.\n",
      " |  \n",
      " |  reverse(self, /)\n",
      " |      Reverse *IN PLACE*.\n",
      " |  \n",
      " |  sort(self, /, *, key=None, reverse=False)\n",
      " |      Sort the list in ascending order and return None.\n",
      " |      \n",
      " |      The sort is in-place (i.e. the list itself is modified) and stable (i.e. the\n",
      " |      order of two equal elements is maintained).\n",
      " |      \n",
      " |      If a key function is given, apply it once to each list item and sort them,\n",
      " |      ascending or descending, according to their function values.\n",
      " |      \n",
      " |      The reverse flag can be set to sort in descending order.\n",
      " |  \n",
      " |  ----------------------------------------------------------------------\n",
      " |  Class methods defined here:\n",
      " |  \n",
      " |  __class_getitem__(...) from builtins.type\n",
      " |      See PEP 585\n",
      " |  \n",
      " |  ----------------------------------------------------------------------\n",
      " |  Static methods defined here:\n",
      " |  \n",
      " |  __new__(*args, **kwargs) from builtins.type\n",
      " |      Create and return a new object.  See help(type) for accurate signature.\n",
      " |  \n",
      " |  ----------------------------------------------------------------------\n",
      " |  Data and other attributes defined here:\n",
      " |  \n",
      " |  __hash__ = None\n",
      "\n",
      "None\n"
     ]
    }
   ],
   "source": [
    "print(help(list))"
   ]
  },
  {
   "cell_type": "code",
   "execution_count": 19,
   "id": "41cc6639",
   "metadata": {},
   "outputs": [
    {
     "name": "stdout",
     "output_type": "stream",
     "text": [
      "j = [1, 2, 3, 4, 5]\n",
      "i = [1, 2, 3, 4, 5]\n"
     ]
    }
   ],
   "source": [
    "i = [1, 2, 3, 4, 5]\n",
    "j = i\n",
    "print('j =', j)\n",
    "print('i =', i)"
   ]
  },
  {
   "cell_type": "code",
   "execution_count": 20,
   "id": "9783b689",
   "metadata": {},
   "outputs": [
    {
     "name": "stdout",
     "output_type": "stream",
     "text": [
      "j = [100, 2, 3, 4, 5]\n",
      "i = [100, 2, 3, 4, 5]\n"
     ]
    }
   ],
   "source": [
    "i = [1, 2, 3, 4, 5]\n",
    "j = i\n",
    "j[0] = 100\n",
    "print('j =', j)\n",
    "print('i =', i)"
   ]
  },
  {
   "cell_type": "code",
   "execution_count": 21,
   "id": "5e3f044f",
   "metadata": {},
   "outputs": [
    {
     "name": "stdout",
     "output_type": "stream",
     "text": [
      "y = [100, 2, 3, 4, 5]\n",
      "x = [1, 2, 3, 4, 5]\n"
     ]
    }
   ],
   "source": [
    "x = [1 ,2 ,3, 4, 5]\n",
    "y = x.copy()\n",
    "y[0] = 100\n",
    "print('y =', y)\n",
    "print('x =', x)"
   ]
  },
  {
   "cell_type": "code",
   "execution_count": 22,
   "id": "c01447c0",
   "metadata": {},
   "outputs": [
    {
     "name": "stdout",
     "output_type": "stream",
     "text": [
      "y = [100, 2, 3, 4, 5]\n",
      "x = [1, 2, 3, 4, 5]\n"
     ]
    }
   ],
   "source": [
    "x = [1 ,2 ,3, 4, 5]\n",
    "y = x[:]\n",
    "y[0] = 100\n",
    "print('y =', y)\n",
    "print('x =', x)"
   ]
  },
  {
   "cell_type": "markdown",
   "id": "f4722679",
   "metadata": {},
   "source": [
    "list、dictは参照渡し：変更を同期したくない時はcopyを使う"
   ]
  },
  {
   "cell_type": "code",
   "execution_count": 24,
   "id": "92c94205",
   "metadata": {},
   "outputs": [
    {
     "name": "stdout",
     "output_type": "stream",
     "text": [
      "1656283294608\n",
      "1656283294128\n",
      "20\n",
      "5\n"
     ]
    }
   ],
   "source": [
    "X = 20\n",
    "Y = X\n",
    "Y = 5\n",
    "print(id(X))\n",
    "print(id(Y))\n",
    "print(X)\n",
    "print(Y)"
   ]
  },
  {
   "cell_type": "markdown",
   "id": "cb443d62",
   "metadata": {},
   "source": [
    "数値は値渡し：=で結んでもidが違う"
   ]
  },
  {
   "cell_type": "code",
   "execution_count": 25,
   "id": "fbc73dc6",
   "metadata": {},
   "outputs": [
    {
     "name": "stdout",
     "output_type": "stream",
     "text": [
      "1656394088384\n",
      "1656394088384\n",
      "['p', 'b']\n",
      "['p', 'b']\n"
     ]
    }
   ],
   "source": [
    "X = ['a', 'b']\n",
    "Y = X\n",
    "Y[0] = 'p'\n",
    "print(id(X))\n",
    "print(id(Y))\n",
    "print(X)\n",
    "print(Y)"
   ]
  },
  {
   "cell_type": "markdown",
   "id": "4b97bdb0",
   "metadata": {},
   "source": [
    "↓リストの使いどころ↓"
   ]
  },
  {
   "cell_type": "code",
   "execution_count": 33,
   "id": "625b00bf",
   "metadata": {},
   "outputs": [
    {
     "data": {
      "text/plain": [
       "True"
      ]
     },
     "execution_count": 33,
     "metadata": {},
     "output_type": "execute_result"
    }
   ],
   "source": [
    "seat = []\n",
    "min = 0\n",
    "max = 5\n",
    "min <= len(seat) < max"
   ]
  },
  {
   "cell_type": "code",
   "execution_count": 34,
   "id": "d86a3af0",
   "metadata": {},
   "outputs": [
    {
     "data": {
      "text/plain": [
       "True"
      ]
     },
     "execution_count": 34,
     "metadata": {},
     "output_type": "execute_result"
    }
   ],
   "source": [
    "seat.append('p')\n",
    "min <= len(seat) < max"
   ]
  },
  {
   "cell_type": "code",
   "execution_count": 35,
   "id": "1dc4c333",
   "metadata": {},
   "outputs": [
    {
     "data": {
      "text/plain": [
       "True"
      ]
     },
     "execution_count": 35,
     "metadata": {},
     "output_type": "execute_result"
    }
   ],
   "source": [
    "seat.append('p')\n",
    "min <= len(seat) < max"
   ]
  },
  {
   "cell_type": "code",
   "execution_count": 36,
   "id": "fd5bd34d",
   "metadata": {},
   "outputs": [
    {
     "data": {
      "text/plain": [
       "True"
      ]
     },
     "execution_count": 36,
     "metadata": {},
     "output_type": "execute_result"
    }
   ],
   "source": [
    "seat.append('p')\n",
    "seat.append('p')\n",
    "min <= len(seat) < max"
   ]
  },
  {
   "cell_type": "code",
   "execution_count": 37,
   "id": "e73290de",
   "metadata": {},
   "outputs": [
    {
     "data": {
      "text/plain": [
       "4"
      ]
     },
     "execution_count": 37,
     "metadata": {},
     "output_type": "execute_result"
    }
   ],
   "source": [
    "len(seat)"
   ]
  },
  {
   "cell_type": "code",
   "execution_count": 41,
   "id": "b50d5d9e",
   "metadata": {},
   "outputs": [
    {
     "data": {
      "text/plain": [
       "False"
      ]
     },
     "execution_count": 41,
     "metadata": {},
     "output_type": "execute_result"
    }
   ],
   "source": [
    "seat.append('p')\n",
    "min <= len(seat) < max"
   ]
  },
  {
   "cell_type": "code",
   "execution_count": 42,
   "id": "fc6c7cdb",
   "metadata": {},
   "outputs": [
    {
     "data": {
      "text/plain": [
       "'p'"
      ]
     },
     "execution_count": 42,
     "metadata": {},
     "output_type": "execute_result"
    }
   ],
   "source": [
    "seat.pop(0)"
   ]
  },
  {
   "cell_type": "code",
   "execution_count": 43,
   "id": "95704a20",
   "metadata": {},
   "outputs": [
    {
     "data": {
      "text/plain": [
       "False"
      ]
     },
     "execution_count": 43,
     "metadata": {},
     "output_type": "execute_result"
    }
   ],
   "source": [
    "min <= len(seat) < max"
   ]
  },
  {
   "cell_type": "code",
   "execution_count": 44,
   "id": "7fd6ff29",
   "metadata": {},
   "outputs": [
    {
     "data": {
      "text/plain": [
       "False"
      ]
     },
     "execution_count": 44,
     "metadata": {},
     "output_type": "execute_result"
    }
   ],
   "source": [
    "seat.pop(0)\n",
    "min <= len(seat) < max"
   ]
  },
  {
   "cell_type": "code",
   "execution_count": 45,
   "id": "1b8d504b",
   "metadata": {},
   "outputs": [
    {
     "data": {
      "text/plain": [
       "6"
      ]
     },
     "execution_count": 45,
     "metadata": {},
     "output_type": "execute_result"
    }
   ],
   "source": [
    "len(seat)"
   ]
  },
  {
   "cell_type": "code",
   "execution_count": null,
   "id": "85852fad",
   "metadata": {},
   "outputs": [],
   "source": [
    "seat.pop(0)\n",
    "min <= len(seat) < max"
   ]
  }
 ],
 "metadata": {
  "kernelspec": {
   "display_name": "Python 3 (ipykernel)",
   "language": "python",
   "name": "python3"
  },
  "language_info": {
   "codemirror_mode": {
    "name": "ipython",
    "version": 3
   },
   "file_extension": ".py",
   "mimetype": "text/x-python",
   "name": "python",
   "nbconvert_exporter": "python",
   "pygments_lexer": "ipython3",
   "version": "3.9.12"
  }
 },
 "nbformat": 4,
 "nbformat_minor": 5
}
