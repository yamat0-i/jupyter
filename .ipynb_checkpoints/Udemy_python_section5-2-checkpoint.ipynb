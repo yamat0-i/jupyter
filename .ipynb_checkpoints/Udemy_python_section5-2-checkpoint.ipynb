{
 "cells": [
  {
   "cell_type": "markdown",
   "id": "74bf034f",
   "metadata": {},
   "source": [
    "〇関数定義"
   ]
  },
  {
   "cell_type": "markdown",
   "id": "4b13eaf2",
   "metadata": {},
   "source": [
    "def 関数名(引数):"
   ]
  },
  {
   "cell_type": "code",
   "execution_count": 3,
   "id": "8e057bb2",
   "metadata": {},
   "outputs": [
    {
     "name": "stdout",
     "output_type": "stream",
     "text": [
      "hi\n"
     ]
    }
   ],
   "source": [
    "def say_something():\n",
    "    print('hi')\n",
    "    \n",
    "say_something()"
   ]
  },
  {
   "cell_type": "code",
   "execution_count": 4,
   "id": "390c28be",
   "metadata": {},
   "outputs": [
    {
     "name": "stdout",
     "output_type": "stream",
     "text": [
      "<class 'function'>\n"
     ]
    }
   ],
   "source": [
    "print(type(say_something))"
   ]
  },
  {
   "cell_type": "markdown",
   "id": "359ff22d",
   "metadata": {},
   "source": [
    "返り値…return の後の値を返す"
   ]
  },
  {
   "cell_type": "code",
   "execution_count": 5,
   "id": "34fec0c7",
   "metadata": {},
   "outputs": [
    {
     "name": "stdout",
     "output_type": "stream",
     "text": [
      "hi\n"
     ]
    }
   ],
   "source": [
    "def say_something():\n",
    "    s = 'hi'\n",
    "    return s\n",
    "    \n",
    "result = say_something()\n",
    "print(result)"
   ]
  },
  {
   "cell_type": "markdown",
   "id": "d444e156",
   "metadata": {},
   "source": [
    "※引数あり"
   ]
  },
  {
   "cell_type": "code",
   "execution_count": 7,
   "id": "bcdf4441",
   "metadata": {},
   "outputs": [
    {
     "name": "stdout",
     "output_type": "stream",
     "text": [
      "tomato\n"
     ]
    }
   ],
   "source": [
    "def what_is_this(color):\n",
    "    if color == 'red':\n",
    "        return 'tomato'\n",
    "    elif color == 'green':\n",
    "        return 'green pepper'\n",
    "    else:\n",
    "        return \"I don't know \"\n",
    "    \n",
    "result = what_is_this('red')  \n",
    "print(result)"
   ]
  },
  {
   "cell_type": "code",
   "execution_count": 8,
   "id": "a4467343",
   "metadata": {},
   "outputs": [
    {
     "name": "stdout",
     "output_type": "stream",
     "text": [
      "30\n"
     ]
    }
   ],
   "source": [
    "def add_num(a, b):\n",
    "    return a + b\n",
    "\n",
    "r = add_num(10, 20)\n",
    "print(r)"
   ]
  },
  {
   "cell_type": "markdown",
   "id": "5996e05b",
   "metadata": {},
   "source": [
    "〇位置引数とキーワード引数とデフォルト引数"
   ]
  },
  {
   "cell_type": "markdown",
   "id": "1ff023e7",
   "metadata": {},
   "source": [
    "位置引数…順番を間違える可能性、キーワード引数…順番が違っても大丈夫"
   ]
  },
  {
   "cell_type": "code",
   "execution_count": 10,
   "id": "56fc8062",
   "metadata": {},
   "outputs": [
    {
     "name": "stdout",
     "output_type": "stream",
     "text": [
      "entree =  beef\n",
      "drink =  beer\n",
      "dessert =  ice\n"
     ]
    }
   ],
   "source": [
    "def menu(entree, drink, dessert):\n",
    "    print('entree = ', entree)\n",
    "    print('drink = ', drink)\n",
    "    print('dessert = ', dessert)\n",
    "    \n",
    "menu(entree = 'beef', dessert = 'ice', drink = 'beer') #keyword argument"
   ]
  },
  {
   "cell_type": "markdown",
   "id": "df5d1a10",
   "metadata": {},
   "source": [
    "デフォルト引数…引数を与えなかったときに使用される"
   ]
  },
  {
   "cell_type": "code",
   "execution_count": 11,
   "id": "12f0ee9f",
   "metadata": {},
   "outputs": [
    {
     "name": "stdout",
     "output_type": "stream",
     "text": [
      "entree =  beef\n",
      "drink =  wine\n",
      "dessert =  ice\n"
     ]
    }
   ],
   "source": [
    "def menu(entree = 'beef', drink = 'wine', dessert = 'ice'):　#default argument\n",
    "    print('entree = ', entree)\n",
    "    print('drink = ', drink)\n",
    "    print('dessert = ', dessert)\n",
    "    \n",
    "menu()"
   ]
  },
  {
   "cell_type": "markdown",
   "id": "f19571d8",
   "metadata": {},
   "source": [
    "〇デフォルト引数で気を付けること"
   ]
  },
  {
   "cell_type": "markdown",
   "id": "aa236e67",
   "metadata": {},
   "source": [
    "↓問題ない例"
   ]
  },
  {
   "cell_type": "code",
   "execution_count": 12,
   "id": "2b23f3b6",
   "metadata": {},
   "outputs": [
    {
     "name": "stdout",
     "output_type": "stream",
     "text": [
      "[1, 2, 3, 100]\n"
     ]
    }
   ],
   "source": [
    "def test_func(x, l = []):\n",
    "    l.append(x)\n",
    "    return l\n",
    "\n",
    "y = [1, 2, 3]\n",
    "r = test_func(100, y)\n",
    "print(r)"
   ]
  },
  {
   "cell_type": "markdown",
   "id": "dfa7da55",
   "metadata": {},
   "source": [
    "↓バグに繋がりやすい例（引数が不足しているが実行できてしまう）"
   ]
  },
  {
   "cell_type": "code",
   "execution_count": 15,
   "id": "b8c33a72",
   "metadata": {},
   "outputs": [
    {
     "name": "stdout",
     "output_type": "stream",
     "text": [
      "[100]\n",
      "[100, 200]\n"
     ]
    }
   ],
   "source": [
    "def test_func(x, l =[]):\n",
    "    l.append(x)\n",
    "    return l\n",
    "\n",
    "r = test_func(100) #空のリストに100が追加される\n",
    "print(r)\n",
    "\n",
    "r = test_func(200) #l = [100]に200が追加される\n",
    "print(r)"
   ]
  },
  {
   "cell_type": "markdown",
   "id": "95218414",
   "metadata": {},
   "source": [
    "↓このように書く"
   ]
  },
  {
   "cell_type": "code",
   "execution_count": 16,
   "id": "a6d259fb",
   "metadata": {},
   "outputs": [
    {
     "name": "stdout",
     "output_type": "stream",
     "text": [
      "[100]\n",
      "[200]\n"
     ]
    }
   ],
   "source": [
    "def test_func(x, l = None):\n",
    "    if l is None:             #引数が指定されていない時、空のリストを作成\n",
    "        l = []\n",
    "    l.append(x)\n",
    "    return l\n",
    "\n",
    "r = test_func(100) #空のリストに100が追加される\n",
    "print(r)\n",
    "\n",
    "r = test_func(200) #空のリストに200が追加される\n",
    "print(r)"
   ]
  },
  {
   "cell_type": "markdown",
   "id": "62213622",
   "metadata": {},
   "source": [
    "〇位置引数のタプル化"
   ]
  },
  {
   "cell_type": "markdown",
   "id": "9658b9b3",
   "metadata": {},
   "source": [
    "*args…位置引数をタプルに入れてまとめる"
   ]
  },
  {
   "cell_type": "code",
   "execution_count": 19,
   "id": "843fdf58",
   "metadata": {},
   "outputs": [
    {
     "name": "stdout",
     "output_type": "stream",
     "text": [
      "('Hi', 'Mike', 'Nance')\n"
     ]
    }
   ],
   "source": [
    "def say_something(*args):\n",
    "    print(args)\n",
    "\n",
    "say_something('Hi', 'Mike', 'Nance')"
   ]
  },
  {
   "cell_type": "code",
   "execution_count": 20,
   "id": "3c57df94",
   "metadata": {},
   "outputs": [
    {
     "name": "stdout",
     "output_type": "stream",
     "text": [
      "Hi\n",
      "Mike\n",
      "Nance\n"
     ]
    }
   ],
   "source": [
    "def say_something(*args):\n",
    "    for arg in args:\n",
    "        print(arg)\n",
    "        \n",
    "say_something('Hi', 'Mike', 'Nance')"
   ]
  },
  {
   "cell_type": "code",
   "execution_count": null,
   "id": "a95c08bf",
   "metadata": {},
   "outputs": [],
   "source": []
  }
 ],
 "metadata": {
  "kernelspec": {
   "display_name": "Python 3 (ipykernel)",
   "language": "python",
   "name": "python3"
  },
  "language_info": {
   "codemirror_mode": {
    "name": "ipython",
    "version": 3
   },
   "file_extension": ".py",
   "mimetype": "text/x-python",
   "name": "python",
   "nbconvert_exporter": "python",
   "pygments_lexer": "ipython3",
   "version": "3.9.12"
  }
 },
 "nbformat": 4,
 "nbformat_minor": 5
}
